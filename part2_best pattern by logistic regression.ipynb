{
 "cells": [
  {
   "cell_type": "code",
   "execution_count": null,
   "id": "9c877468-30bb-4e85-a04f-e9c85c23a215",
   "metadata": {},
   "outputs": [],
   "source": [
    "# for generating the best pattern by logistic regression"
   ]
  },
  {
   "cell_type": "code",
   "execution_count": null,
   "id": "6a05df6b",
   "metadata": {
    "scrolled": true
   },
   "outputs": [],
   "source": [
    "import mne\n",
    "from matplotlib import pyplot as plt\n",
    "plt.style.use(['default'])\n",
    "from IPython.core.display import display, HTML\n",
    "display(HTML(\"<style>.container { width:80% !important; }</style>\"))\n",
    "import pickle\n",
    "import os\n",
    "import time\n",
    "import math\n",
    "import random\n",
    "import argparse\n",
    "import copy\n",
    "import scipy\n",
    "import scipy.io as sio\n",
    "from scipy import signal\n",
    "import mat73\n",
    "import sklearn\n",
    "import pandas as pd\n",
    "import numpy as np\n",
    "from sklearn.metrics import classification_report\n",
    "import seaborn as sns\n",
    "# from pytopo import topoplotIndie"
   ]
  },
  {
   "cell_type": "code",
   "execution_count": 5,
   "id": "4f6221a5",
   "metadata": {},
   "outputs": [],
   "source": [
    "group_name='PD';\n",
    "band_name='delta';"
   ]
  },
  {
   "cell_type": "code",
   "execution_count": 6,
   "id": "42483d3a",
   "metadata": {},
   "outputs": [
    {
     "data": {
      "text/plain": [
       "('PD', 'delta')"
      ]
     },
     "execution_count": 6,
     "metadata": {},
     "output_type": "execute_result"
    }
   ],
   "source": [
    "group_name, band_name"
   ]
  },
  {
   "cell_type": "code",
   "execution_count": 8,
   "id": "812216c3",
   "metadata": {},
   "outputs": [],
   "source": [
    "score = sio.loadmat(group_name+'_score.mat')\n",
    "score = score[band_name]\n",
    "pattern = sio.loadmat(group_name+'_PC_'+band_name+'_pattern.mat')\n",
    "GMP_ref = sio.loadmat(group_name+'_GMP_ref.mat')\n",
    "SRP = sio.loadmat(group_name+'_SRP.mat')"
   ]
  },
  {
   "cell_type": "code",
   "execution_count": 11,
   "id": "6779b366",
   "metadata": {},
   "outputs": [
    {
     "data": {
      "text/plain": [
       "(24,\n",
       " array([1., 1., 1., 1., 1., 1., 1., 1., 1., 1., 1., 1., 0., 0., 0., 0., 0.,\n",
       "        0., 0., 0., 0., 0., 0., 0.]))"
      ]
     },
     "execution_count": 11,
     "metadata": {},
     "output_type": "execute_result"
    }
   ],
   "source": [
    "indX = np.concatenate((np.ones(12),np.zeros(12))) #1111...0000, PD n=12, HC n=12\n",
    "len(indX), indX"
   ]
  },
  {
   "cell_type": "code",
   "execution_count": 12,
   "id": "5c25132e",
   "metadata": {},
   "outputs": [],
   "source": [
    "# all PC combinations\n",
    "from itertools import combinations\n",
    "\n",
    "nums = [0,1,2,3,4]\n",
    "combi = list(combinations(nums, 1)) + list(combinations(nums, 2)) + list(combinations(nums, 3)) + list(combinations(nums, 4)) + list(combinations(nums, 5))"
   ]
  },
  {
   "cell_type": "code",
   "execution_count": 13,
   "id": "7b70670f-c3bb-4fa4-8c08-1ce888c3c212",
   "metadata": {},
   "outputs": [
    {
     "data": {
      "text/plain": [
       "[(0,),\n",
       " (1,),\n",
       " (2,),\n",
       " (3,),\n",
       " (4,),\n",
       " (0, 1),\n",
       " (0, 2),\n",
       " (0, 3),\n",
       " (0, 4),\n",
       " (1, 2),\n",
       " (1, 3),\n",
       " (1, 4),\n",
       " (2, 3),\n",
       " (2, 4),\n",
       " (3, 4),\n",
       " (0, 1, 2),\n",
       " (0, 1, 3),\n",
       " (0, 1, 4),\n",
       " (0, 2, 3),\n",
       " (0, 2, 4),\n",
       " (0, 3, 4),\n",
       " (1, 2, 3),\n",
       " (1, 2, 4),\n",
       " (1, 3, 4),\n",
       " (2, 3, 4),\n",
       " (0, 1, 2, 3),\n",
       " (0, 1, 2, 4),\n",
       " (0, 1, 3, 4),\n",
       " (0, 2, 3, 4),\n",
       " (1, 2, 3, 4),\n",
       " (0, 1, 2, 3, 4)]"
      ]
     },
     "execution_count": 13,
     "metadata": {},
     "output_type": "execute_result"
    }
   ],
   "source": [
    "combi"
   ]
  },
  {
   "cell_type": "code",
   "execution_count": 14,
   "id": "637f46f5",
   "metadata": {},
   "outputs": [],
   "source": [
    "from sklearn import metrics\n",
    "from sklearn.linear_model import LogisticRegression\n",
    "from sklearn.metrics import ConfusionMatrixDisplay\n",
    "from sklearn.metrics import roc_curve\n",
    "from sklearn.metrics import roc_auc_score\n",
    "from sklearn.metrics import RocCurveDisplay"
   ]
  },
  {
   "cell_type": "code",
   "execution_count": 15,
   "id": "4a820048",
   "metadata": {},
   "outputs": [],
   "source": [
    "# pred = subject * PC score\n",
    "# 0번째 조합에 대해서 multiple linear regression\n",
    "# 나중에 for 문 돌려야 함\n",
    "AIC_list = []\n",
    "AUC_list = []\n",
    "ACC_list = []\n",
    "gmeans_list = []\n",
    "sensitivity_list = []\n",
    "specificity_list = []\n",
    "\n",
    "for num in range(len(combi)):\n",
    "    pred = score[:,combi[num]]\n",
    "    clf = LogisticRegression(random_state=0).fit(pred, indX)\n",
    "\n",
    "    'AIC calculation'\n",
    "    BX= clf.intercept_[0] + pred@clf.coef_.T\n",
    "    log_likelihood=np.sum(indX* np.squeeze(BX)- np.squeeze(np.log(1+np.exp(BX))))\n",
    "    aic = -2*log_likelihood+2*(len(combi[num])+1)\n",
    "    AIC_list.append(aic)\n",
    "\n",
    "    y_pred=clf.predict(pred)\n",
    "    y_score = clf.predict_proba(pred)\n",
    "\n",
    "    cm = sklearn.metrics.confusion_matrix(indX, y_pred)\n",
    "    conf_matrix = pd.DataFrame(data = cm,\n",
    "                               columns = ['Predicted:HC', 'Predicted:'+group_name],\n",
    "                               index =['HC', group_name])\n",
    "    'for plot and summary'\n",
    "    # Accuracy, AUC\n",
    "    fpr, tpr, thresholds = roc_curve(indX, clf.predict_proba(pred)[:, 1], pos_label=1)\n",
    "    roc_auc = metrics.auc(fpr, tpr)\n",
    "    ACC_list.append(clf.score(pred, indX))\n",
    "    AUC_list.append(roc_auc)\n",
    "\n",
    "    gmeans = np.sqrt(tpr * (1-fpr)) # sqrt(Sensitivity * Specificity)\n",
    "    maxidx  = np.argmax(gmeans)\n",
    "    gmeans_list.append(gmeans[maxidx])\n",
    "    best_threshold = thresholds[maxidx]\n",
    "    sensitivity_list.append(tpr[maxidx])\n",
    "    specificity_list.append((1-fpr)[maxidx])\n",
    "    \n",
    "    PC_name_for_plot = []\n",
    "    for i in combi[num]:\n",
    "        PC_name_for_plot.append(i+1)"
   ]
  },
  {
   "cell_type": "markdown",
   "id": "5129d689",
   "metadata": {},
   "source": [
    "## find best combination of PCs"
   ]
  },
  {
   "cell_type": "code",
   "execution_count": 16,
   "id": "f1f0cd60",
   "metadata": {},
   "outputs": [
    {
     "data": {
      "text/plain": [
       "(26, 17, 17, 17)"
      ]
     },
     "execution_count": 16,
     "metadata": {},
     "output_type": "execute_result"
    }
   ],
   "source": [
    "np.argmax(AUC_list), np.argmin(AIC_list), np.argmax(ACC_list), np.argmax(gmeans_list)"
   ]
  },
  {
   "cell_type": "code",
   "execution_count": 17,
   "id": "7ca1e6d7",
   "metadata": {},
   "outputs": [],
   "source": [
    "'1: AUC, 2:AIC, 3:ACC, 4:gmeans'\n",
    "criteria = 2\n",
    "\n",
    "if criteria == 1: #AUC\n",
    "    num = np.argmax(AUC_list)\n",
    "elif criteria == 2: #AIC\n",
    "    num = np.argmin(AIC_list)\n",
    "elif criteria == 3: #ACC\n",
    "    num = np.argmax(ACC_list)\n",
    "elif criteria == 4: #gmeans\n",
    "    num = np.argmax(gmeans_list)"
   ]
  },
  {
   "cell_type": "code",
   "execution_count": null,
   "id": "73319e97",
   "metadata": {
    "scrolled": true
   },
   "outputs": [],
   "source": [
    "pred = score[:,combi[num]]\n",
    "clf = LogisticRegression(random_state=0).fit(pred, indX)\n",
    "\n",
    "'AIC calculation'\n",
    "BX= clf.intercept_[0] + pred@clf.coef_.T\n",
    "log_likelihood=np.sum(indX* np.squeeze(BX)- np.squeeze(np.log(1+np.exp(BX))))\n",
    "aic = -2*log_likelihood+2*(len(combi[num])+1)\n",
    "\n",
    "y_pred=clf.predict(pred)\n",
    "y_score = clf.predict_proba(pred)\n",
    "\n",
    "cm = sklearn.metrics.confusion_matrix(indX, y_pred)\n",
    "conf_matrix = pd.DataFrame(data = cm,\n",
    "                           columns = ['Predicted:HC', 'Predicted:'+group_name],\n",
    "                           index =['HC', group_name])\n",
    "'for plot and summary'\n",
    "sns.heatmap(conf_matrix, annot = True, fmt = 'd', cmap = \"Blues\")\n",
    "\n",
    "# Accuracy, AUC\n",
    "fpr, tpr, thresholds = roc_curve(indX, clf.predict_proba(pred)[:, 1], pos_label=1)\n",
    "roc_auc = metrics.auc(fpr, tpr)\n",
    "\n",
    "gmeans = np.sqrt(tpr * (1-fpr)) # sqrt(Sensitivity * Specificity)\n",
    "maxidx  = np.argmax(gmeans)\n",
    "best_threshold = thresholds[maxidx]\n",
    "\n",
    "PC_name_for_plot = []\n",
    "for i in combi[num]:\n",
    "    PC_name_for_plot.append(i+1)\n",
    "\n",
    "'for roc plot'\n",
    "plt.figure()\n",
    "display = metrics.RocCurveDisplay(fpr=fpr, tpr=tpr, roc_auc=roc_auc, \n",
    "    estimator_name='LR of PC '+ str(PC_name_for_plot))\n",
    "display.plot()\n",
    "plt.ylabel('TPR (sensitivity)')\n",
    "plt.xlabel('FPR (1-specificity)')\n",
    "plt.scatter(fpr[maxidx], tpr[maxidx], marker='o', \n",
    "            color='black', label='Best threshold: p= '\n",
    "            +str(round(best_threshold,4)))\n",
    "plt.legend()\n",
    "\n",
    "print('Combination: ', PC_name_for_plot)\n",
    "print('\\ncoef, intercept')\n",
    "print(clf.coef_, clf.intercept_)\n",
    "print (classification_report(indX, y_pred))\n",
    "print('\\nAIC: ', round(aic,4), '/ ACC: ',round(clf.score(pred, indX), 4), '/ AUC: ',round(roc_auc, 4))\n",
    "print('\\nBest Threshold=%.4f, G-Mean=%.4f' % (thresholds[maxidx], gmeans[maxidx]))\n",
    "print('sensitivity, specificity', round(tpr[maxidx],4),round((1-fpr)[maxidx],4))"
   ]
  },
  {
   "cell_type": "code",
   "execution_count": 19,
   "id": "827e8c85",
   "metadata": {},
   "outputs": [],
   "source": [
    "# best combination:  [1, 2, 5]\n",
    "pattern_whole = np.squeeze((pattern['PC1'], pattern['PC2'], pattern['PC3'], pattern['PC4'], pattern['PC5'])) #(5 PCs, 15002 voxels)\n",
    "pattern_selected = pattern_whole[combi[num], :] # pattern generated from best combination of PCs (PC1, PC2, PC5)"
   ]
  },
  {
   "cell_type": "code",
   "execution_count": 20,
   "id": "4e798d04-c0eb-41c2-ac64-93abd76db61b",
   "metadata": {},
   "outputs": [
    {
     "data": {
      "text/plain": [
       "((1, 3), (3, 15002))"
      ]
     },
     "execution_count": 20,
     "metadata": {},
     "output_type": "execute_result"
    }
   ],
   "source": [
    "np.shape(clf.coef_), np.shape(pattern_selected)"
   ]
  },
  {
   "cell_type": "code",
   "execution_count": 21,
   "id": "e085282c",
   "metadata": {},
   "outputs": [],
   "source": [
    "# final pattern : sum(each coef * each PC pattern)\n",
    "GIS_A = clf.coef_ @ pattern_selected\n",
    "\n",
    "# z transformed pattern\n",
    "GIS_Az = (GIS_A-GIS_A.mean())/ GIS_A.std()\n",
    "\n",
    "# original subject score for 12 PD and 12 HC\n",
    "subject_score = SRP['SRP_'+band_name]@ GIS_Az.T # ((24, 1) = (24, 15002) @ (15002, 1))"
   ]
  },
  {
   "cell_type": "code",
   "execution_count": 25,
   "id": "dfea00c6-3fdd-4986-b193-b110f9fa2374",
   "metadata": {},
   "outputs": [
    {
     "data": {
      "text/plain": [
       "((24, 1), (24, 15002), (15002, 1))"
      ]
     },
     "execution_count": 25,
     "metadata": {},
     "output_type": "execute_result"
    }
   ],
   "source": [
    "np.shape(subject_score), np.shape(SRP['SRP_'+band_name]), np.shape(GIS_Az.T)"
   ]
  },
  {
   "cell_type": "code",
   "execution_count": 26,
   "id": "3ba60d28",
   "metadata": {},
   "outputs": [],
   "source": [
    "HCd = subject_score[len(eval(group_name)):]\n",
    "RBDd = subject_score[:len(eval(group_name))]\n",
    "\n",
    "# z transformed (reference to HC) original subject score\n",
    "HCdz = (HCd-HCd.mean())/HCd.std()\n",
    "RBDdz = (RBDd-HCd.mean())/HCd.std()"
   ]
  },
  {
   "cell_type": "code",
   "execution_count": 27,
   "id": "80d0fe6b",
   "metadata": {},
   "outputs": [],
   "source": [
    "subj_z = np.concatenate((HCdz, RBDdz), axis=0) # HC, PD"
   ]
  },
  {
   "cell_type": "code",
   "execution_count": 28,
   "id": "70506abd",
   "metadata": {},
   "outputs": [
    {
     "data": {
      "text/plain": [
       "'result_PD_delta'"
      ]
     },
     "execution_count": 28,
     "metadata": {},
     "output_type": "execute_result"
    }
   ],
   "source": [
    "'result_'+group_name+'_'+band_name"
   ]
  },
  {
   "cell_type": "code",
   "execution_count": 35,
   "id": "860768c5",
   "metadata": {},
   "outputs": [],
   "source": [
    "HC_mean_std=(HCd.mean(),HCd.std())"
   ]
  },
  {
   "cell_type": "code",
   "execution_count": 36,
   "id": "4e0219d6",
   "metadata": {},
   "outputs": [],
   "source": [
    "result = {}\n",
    "\n",
    "result['GIS_A'] = GIS_A\n",
    "\n",
    "result['GIS_Az']=GIS_Az\n",
    "\n",
    "result['subj_z']=subj_z\n",
    "\n",
    "result['HC_mean_std']=HC_mean_std\n",
    "\n",
    "sio.savemat('result_'+group_name+'_'+band_name+'.mat', result)"
   ]
  }
 ],
 "metadata": {
  "kernelspec": {
   "display_name": "Python 3 (ipykernel)",
   "language": "python",
   "name": "python3"
  },
  "language_info": {
   "codemirror_mode": {
    "name": "ipython",
    "version": 3
   },
   "file_extension": ".py",
   "mimetype": "text/x-python",
   "name": "python",
   "nbconvert_exporter": "python",
   "pygments_lexer": "ipython3",
   "version": "3.9.4"
  },
  "varInspector": {
   "cols": {
    "lenName": 16,
    "lenType": 16,
    "lenVar": 40
   },
   "kernels_config": {
    "python": {
     "delete_cmd_postfix": "",
     "delete_cmd_prefix": "del ",
     "library": "var_list.py",
     "varRefreshCmd": "print(var_dic_list())"
    },
    "r": {
     "delete_cmd_postfix": ") ",
     "delete_cmd_prefix": "rm(",
     "library": "var_list.r",
     "varRefreshCmd": "cat(var_dic_list()) "
    }
   },
   "position": {
    "height": "237.844px",
    "left": "928px",
    "right": "20px",
    "top": "79px",
    "width": "800px"
   },
   "types_to_exclude": [
    "module",
    "function",
    "builtin_function_or_method",
    "instance",
    "_Feature"
   ],
   "window_display": false
  }
 },
 "nbformat": 4,
 "nbformat_minor": 5
}
