{
 "cells": [
  {
   "cell_type": "code",
   "execution_count": 2,
   "id": "d9acf5b8-dddd-457c-bfbc-85cd517c1a37",
   "metadata": {},
   "outputs": [],
   "source": [
    "# for generating 5 PC (principal component) pattern and PCA score"
   ]
  },
  {
   "cell_type": "code",
   "execution_count": null,
   "id": "6a05df6b",
   "metadata": {},
   "outputs": [],
   "source": [
    "import mne\n",
    "from matplotlib import pyplot as plt\n",
    "plt.style.use(['default'])\n",
    "from IPython.core.display import display, HTML\n",
    "display(HTML(\"<style>.container { width:80% !important; }</style>\"))\n",
    "import pickle\n",
    "import os\n",
    "import time\n",
    "import math\n",
    "import random\n",
    "import argparse\n",
    "import copy\n",
    "import scipy\n",
    "import scipy.io as sio\n",
    "from scipy import signal\n",
    "import mat73\n",
    "import sklearn\n",
    "import numpy as np\n",
    "# from pytopo import topoplotIndie"
   ]
  },
  {
   "cell_type": "code",
   "execution_count": 4,
   "id": "e71c81e9",
   "metadata": {},
   "outputs": [],
   "source": [
    "'load relative band power'\n",
    "\n",
    "PD_bp_re = sio.loadmat('RBDRP/03_PSD_EC/PD_bandpower_re.mat')\n",
    "PD_bp_re = PD_bp_re['PD_bandpower_re']\n",
    "\n",
    "HC_bp_re = sio.loadmat('RBDRP/03_PSD_EC/HC_bandpower_re_PD_matched.mat')\n",
    "HC_bp_re = HC_bp_re['HC_bandpower_re']"
   ]
  },
  {
   "cell_type": "code",
   "execution_count": 5,
   "id": "2f95f899",
   "metadata": {},
   "outputs": [
    {
     "data": {
      "text/plain": [
       "((12, 5, 15002), (12, 5, 15002))"
      ]
     },
     "execution_count": 5,
     "metadata": {},
     "output_type": "execute_result"
    }
   ],
   "source": [
    "'subj * band * voxel'\n",
    "np.shape(PD_bp_re), np.shape(HC_bp_re)"
   ]
  },
  {
   "cell_type": "code",
   "execution_count": 6,
   "id": "e87ae820",
   "metadata": {},
   "outputs": [],
   "source": [
    "Xtrain_delta = np.log10(np.vstack((PD_bp_re[:,0,:], HC_bp_re[:,0,:])))\n",
    "Xtrain_theta = np.log10(np.vstack((PD_bp_re[:,1,:], HC_bp_re[:,1,:])))\n",
    "Xtrain_alpha = np.log10(np.vstack((PD_bp_re[:,2,:], HC_bp_re[:,2,:])))\n",
    "Xtrain_beta1 = np.log10(np.vstack((PD_bp_re[:,3,:], HC_bp_re[:,3,:])))\n",
    "Xtrain_beta2 = np.log10(np.vstack((PD_bp_re[:,4,:], HC_bp_re[:,4,:])))"
   ]
  },
  {
   "cell_type": "code",
   "execution_count": 7,
   "id": "ac6e09e3",
   "metadata": {},
   "outputs": [
    {
     "data": {
      "text/plain": [
       "((24, 15002), (24, 15002))"
      ]
     },
     "execution_count": 7,
     "metadata": {},
     "output_type": "execute_result"
    }
   ],
   "source": [
    "np.shape(Xtrain_delta), np.shape(Xtrain_theta) # subj * voxel"
   ]
  },
  {
   "cell_type": "code",
   "execution_count": 8,
   "id": "6382a16b",
   "metadata": {},
   "outputs": [],
   "source": [
    "# PD vs. HC'\n",
    "idx =np.shape(PD_bp_re)[0]*[1] + np.shape(HC_bp_re)[0]*[0]"
   ]
  },
  {
   "cell_type": "code",
   "execution_count": 9,
   "id": "d1161beb",
   "metadata": {},
   "outputs": [],
   "source": [
    "nsubj = np.shape(Xtrain_delta)[0]"
   ]
  },
  {
   "cell_type": "code",
   "execution_count": 10,
   "id": "94f79650",
   "metadata": {},
   "outputs": [
    {
     "data": {
      "text/plain": [
       "24"
      ]
     },
     "execution_count": 10,
     "metadata": {},
     "output_type": "execute_result"
    }
   ],
   "source": [
    "nsubj"
   ]
  },
  {
   "cell_type": "code",
   "execution_count": 11,
   "id": "019772a3",
   "metadata": {},
   "outputs": [],
   "source": [
    "# subtract subject mean\n",
    "Xtrain_delta_rc = Xtrain_delta-np.repeat(Xtrain_delta.mean(axis=1),15002).reshape(nsubj,15002) #subtract subj mean (each row)\n",
    "Xtrain_theta_rc = Xtrain_theta-np.repeat(Xtrain_theta.mean(axis=1),15002).reshape(nsubj,15002) #subtract subj mean (each row)\n",
    "Xtrain_alpha_rc = Xtrain_alpha-np.repeat(Xtrain_alpha.mean(axis=1),15002).reshape(nsubj,15002) #subtract subj mean (each row)\n",
    "Xtrain_beta1_rc = Xtrain_beta1-np.repeat(Xtrain_beta1.mean(axis=1),15002).reshape(nsubj,15002) #subtract subj mean (each row)\n",
    "Xtrain_beta2_rc = Xtrain_beta2-np.repeat(Xtrain_beta2.mean(axis=1),15002).reshape(nsubj,15002) #subtract subj mean (each row)"
   ]
  },
  {
   "cell_type": "code",
   "execution_count": 12,
   "id": "3ffd75f2",
   "metadata": {},
   "outputs": [],
   "source": [
    "# subtract group mean (each column)\n",
    "SRP_delta = Xtrain_delta_rc-Xtrain_delta_rc.mean(axis=0)\n",
    "SRP_theta = Xtrain_theta_rc-Xtrain_theta_rc.mean(axis=0)\n",
    "SRP_alpha = Xtrain_alpha_rc-Xtrain_alpha_rc.mean(axis=0)\n",
    "SRP_beta1 = Xtrain_beta1_rc-Xtrain_beta1_rc.mean(axis=0)\n",
    "SRP_beta2 = Xtrain_beta2_rc-Xtrain_beta2_rc.mean(axis=0)"
   ]
  },
  {
   "cell_type": "code",
   "execution_count": 13,
   "id": "87ef8d12",
   "metadata": {},
   "outputs": [
    {
     "data": {
      "text/plain": [
       "(24, 15002)"
      ]
     },
     "execution_count": 13,
     "metadata": {},
     "output_type": "execute_result"
    }
   ],
   "source": [
    "SRP_delta.shape #subj * voxel"
   ]
  },
  {
   "cell_type": "code",
   "execution_count": 14,
   "id": "8ae23a26",
   "metadata": {},
   "outputs": [],
   "source": [
    "cov_d = SRP_delta@SRP_delta.T #12*12 subj by subj cov matrix\n",
    "cov_t = SRP_theta@SRP_theta.T #12*12 subj by subj cov matrix\n",
    "cov_a = SRP_alpha@SRP_alpha.T #12*12 subj by subj cov matrix\n",
    "cov_b1 = SRP_beta1@SRP_beta1.T #12*12 subj by subj cov matrix\n",
    "cov_b2 = SRP_beta2@SRP_beta2.T #12*12 subj by subj cov matrix"
   ]
  },
  {
   "cell_type": "code",
   "execution_count": 15,
   "id": "ead555ca-e5e3-4d11-93be-b1ee540add5e",
   "metadata": {},
   "outputs": [
    {
     "data": {
      "text/plain": [
       "(24, 24)"
      ]
     },
     "execution_count": 15,
     "metadata": {},
     "output_type": "execute_result"
    }
   ],
   "source": [
    "np.shape(cov_d)"
   ]
  },
  {
   "cell_type": "code",
   "execution_count": 17,
   "id": "fb4ccc96",
   "metadata": {},
   "outputs": [],
   "source": [
    "from sklearn.decomposition import PCA\n",
    "# band_score = (subject * Principal components)\n",
    "\n",
    "pca1 = PCA(n_components=nsubj)\n",
    "delta_score = pca1.fit_transform(cov_d)\n",
    "\n",
    "pca2 = PCA(n_components=nsubj)\n",
    "theta_score = pca2.fit_transform(cov_t)\n",
    "\n",
    "pca3 = PCA(n_components=nsubj)\n",
    "alpha_score = pca3.fit_transform(cov_a)\n",
    "\n",
    "pca4 = PCA(n_components=nsubj)\n",
    "beta1_score = pca4.fit_transform(cov_b1)\n",
    "\n",
    "pca5 = PCA(n_components=nsubj)\n",
    "beta2_score = pca5.fit_transform(cov_b2)"
   ]
  },
  {
   "cell_type": "code",
   "execution_count": 18,
   "id": "16410f9e-1a7d-4be2-aa26-3f30f1229542",
   "metadata": {},
   "outputs": [
    {
     "data": {
      "text/plain": [
       "(24, 24)"
      ]
     },
     "execution_count": 18,
     "metadata": {},
     "output_type": "execute_result"
    }
   ],
   "source": [
    "np.shape(delta_score)"
   ]
  },
  {
   "cell_type": "code",
   "execution_count": 21,
   "id": "bfe559ac-7427-4116-bd71-b2152d64d45d",
   "metadata": {},
   "outputs": [],
   "source": [
    "pca_temp = PCA(n_components = 5)\n",
    "temp_score = pca_temp.fit_transform(cov_d)"
   ]
  },
  {
   "cell_type": "code",
   "execution_count": 22,
   "id": "1f17bfcb-8ef9-4214-bef4-43f43f9032c1",
   "metadata": {},
   "outputs": [
    {
     "data": {
      "text/plain": [
       "(24, 5)"
      ]
     },
     "execution_count": 22,
     "metadata": {},
     "output_type": "execute_result"
    }
   ],
   "source": [
    "np.shape(temp_score)"
   ]
  },
  {
   "cell_type": "code",
   "execution_count": 20,
   "id": "7d33e632",
   "metadata": {},
   "outputs": [],
   "source": [
    "# PC pattern\n",
    "P_d = SRP_delta.T @ delta_score # (15002, 24) @ (24, 24) for PD\n",
    "P_t = SRP_theta.T @ theta_score\n",
    "P_a = SRP_alpha.T @ alpha_score\n",
    "P_b1 = SRP_beta1.T @ beta1_score\n",
    "P_b2 = SRP_beta2.T @ beta2_score"
   ]
  },
  {
   "cell_type": "code",
   "execution_count": 21,
   "id": "250e8e60",
   "metadata": {},
   "outputs": [],
   "source": [
    "PC_delta_pattern = {'PC1':np.zeros(15002), 'PC2':np.zeros(15002), 'PC3':np.zeros(15002), 'PC4':np.zeros(15002), 'PC5':np.zeros(15002)}\n",
    "PC_theta_pattern = {'PC1':np.zeros(15002), 'PC2':np.zeros(15002), 'PC3':np.zeros(15002), 'PC4':np.zeros(15002), 'PC5':np.zeros(15002)}\n",
    "PC_alpha_pattern = {'PC1':np.zeros(15002), 'PC2':np.zeros(15002), 'PC3':np.zeros(15002), 'PC4':np.zeros(15002), 'PC5':np.zeros(15002)}\n",
    "PC_beta1_pattern = {'PC1':np.zeros(15002), 'PC2':np.zeros(15002), 'PC3':np.zeros(15002), 'PC4':np.zeros(15002), 'PC5':np.zeros(15002)}\n",
    "PC_beta2_pattern = {'PC1':np.zeros(15002), 'PC2':np.zeros(15002), 'PC3':np.zeros(15002), 'PC4':np.zeros(15002), 'PC5':np.zeros(15002)}"
   ]
  },
  {
   "cell_type": "code",
   "execution_count": 22,
   "id": "8a66c2cd",
   "metadata": {},
   "outputs": [
    {
     "data": {
      "text/plain": [
       "(15002, 24)"
      ]
     },
     "execution_count": 22,
     "metadata": {},
     "output_type": "execute_result"
    }
   ],
   "source": [
    "np.shape(P_d)"
   ]
  },
  {
   "cell_type": "code",
   "execution_count": 23,
   "id": "a953e29a",
   "metadata": {},
   "outputs": [
    {
     "data": {
      "text/plain": [
       "(24, 24)"
      ]
     },
     "execution_count": 23,
     "metadata": {},
     "output_type": "execute_result"
    }
   ],
   "source": [
    "np.shape(delta_score)"
   ]
  },
  {
   "cell_type": "code",
   "execution_count": 24,
   "id": "c790c5e7",
   "metadata": {},
   "outputs": [],
   "source": [
    "PC = ['PC1', 'PC2', 'PC3', 'PC4', 'PC5']\n",
    "\n",
    "for idx, pc in enumerate(PC):\n",
    "    PC_delta_pattern[pc] = P_d[:,idx]\n",
    "    PC_theta_pattern[pc] = P_t[:,idx] \n",
    "    PC_alpha_pattern[pc] = P_a[:,idx]\n",
    "    PC_beta1_pattern[pc] = P_b1[:,idx]\n",
    "    PC_beta2_pattern[pc] = P_b2[:,idx]"
   ]
  },
  {
   "cell_type": "code",
   "execution_count": 26,
   "id": "2d08d0ae",
   "metadata": {},
   "outputs": [],
   "source": [
    "sio.savemat('PD_'+'PC_delta_pattern.mat', PC_delta_pattern)\n",
    "sio.savemat('PD_'+'PC_theta_pattern.mat', PC_theta_pattern)\n",
    "sio.savemat('PD_'+'PC_alpha_pattern.mat', PC_alpha_pattern)\n",
    "sio.savemat('PD_'+'PC_beta1_pattern.mat', PC_beta1_pattern)\n",
    "sio.savemat('PD_'+'PC_beta2_pattern.mat', PC_beta2_pattern)"
   ]
  },
  {
   "cell_type": "code",
   "execution_count": 27,
   "id": "c213cf4b",
   "metadata": {},
   "outputs": [
    {
     "data": {
      "text/plain": [
       "(24, 15002)"
      ]
     },
     "execution_count": 27,
     "metadata": {},
     "output_type": "execute_result"
    }
   ],
   "source": [
    "np.shape(SRP_delta)"
   ]
  },
  {
   "cell_type": "code",
   "execution_count": 28,
   "id": "60855748",
   "metadata": {},
   "outputs": [],
   "source": [
    "score = {}"
   ]
  },
  {
   "cell_type": "code",
   "execution_count": 29,
   "id": "a881bd1b",
   "metadata": {},
   "outputs": [],
   "source": [
    "score['delta'] = delta_score\n",
    "score['theta'] = theta_score\n",
    "score['alpha'] = alpha_score\n",
    "score['beta1'] = beta1_score\n",
    "score['beta2'] = beta2_score"
   ]
  },
  {
   "cell_type": "code",
   "execution_count": 30,
   "id": "b0731b80",
   "metadata": {},
   "outputs": [],
   "source": [
    "sio.savemat('PD_'+'score.mat', score)"
   ]
  },
  {
   "cell_type": "code",
   "execution_count": 31,
   "id": "4e4a4f15",
   "metadata": {},
   "outputs": [],
   "source": [
    "SRP = {}"
   ]
  },
  {
   "cell_type": "code",
   "execution_count": 32,
   "id": "097a20b5",
   "metadata": {},
   "outputs": [],
   "source": [
    "SRP['SRP_delta'] = SRP_delta\n",
    "SRP['SRP_theta'] = SRP_theta\n",
    "SRP['SRP_alpha'] = SRP_alpha\n",
    "SRP['SRP_beta1'] = SRP_beta1\n",
    "SRP['SRP_beta2'] = SRP_beta2"
   ]
  },
  {
   "cell_type": "code",
   "execution_count": 33,
   "id": "d7f9638a",
   "metadata": {},
   "outputs": [],
   "source": [
    "sio.savemat('PD_'+'SRP.mat', SRP)"
   ]
  },
  {
   "cell_type": "code",
   "execution_count": 34,
   "id": "a1bfabad",
   "metadata": {},
   "outputs": [],
   "source": [
    "GMP_ref = {}\n",
    "# Xtrain_delta_rc.mean(axis=0).shape --> (15002,)"
   ]
  },
  {
   "cell_type": "code",
   "execution_count": 36,
   "id": "553154e6",
   "metadata": {},
   "outputs": [],
   "source": [
    "GMP_ref['GMP_ref_delta'] = Xtrain_delta_rc.mean(axis=0)\n",
    "GMP_ref['GMP_ref_theta'] = Xtrain_theta_rc.mean(axis=0)\n",
    "GMP_ref['GMP_ref_alpha'] = Xtrain_alpha_rc.mean(axis=0)\n",
    "GMP_ref['GMP_ref_beta1'] = Xtrain_beta1_rc.mean(axis=0)\n",
    "GMP_ref['GMP_ref_beta2'] = Xtrain_beta2_rc.mean(axis=0)"
   ]
  },
  {
   "cell_type": "code",
   "execution_count": 37,
   "id": "e97f5255",
   "metadata": {},
   "outputs": [],
   "source": [
    "sio.savemat('PD_'+'GMP_ref.mat', GMP_ref)"
   ]
  }
 ],
 "metadata": {
  "kernelspec": {
   "display_name": "Python 3 (ipykernel)",
   "language": "python",
   "name": "python3"
  },
  "language_info": {
   "codemirror_mode": {
    "name": "ipython",
    "version": 3
   },
   "file_extension": ".py",
   "mimetype": "text/x-python",
   "name": "python",
   "nbconvert_exporter": "python",
   "pygments_lexer": "ipython3",
   "version": "3.9.4"
  },
  "varInspector": {
   "cols": {
    "lenName": 16,
    "lenType": 16,
    "lenVar": 40
   },
   "kernels_config": {
    "python": {
     "delete_cmd_postfix": "",
     "delete_cmd_prefix": "del ",
     "library": "var_list.py",
     "varRefreshCmd": "print(var_dic_list())"
    },
    "r": {
     "delete_cmd_postfix": ") ",
     "delete_cmd_prefix": "rm(",
     "library": "var_list.r",
     "varRefreshCmd": "cat(var_dic_list()) "
    }
   },
   "position": {
    "height": "237.844px",
    "left": "928px",
    "right": "20px",
    "top": "79px",
    "width": "800px"
   },
   "types_to_exclude": [
    "module",
    "function",
    "builtin_function_or_method",
    "instance",
    "_Feature"
   ],
   "window_display": false
  }
 },
 "nbformat": 4,
 "nbformat_minor": 5
}
